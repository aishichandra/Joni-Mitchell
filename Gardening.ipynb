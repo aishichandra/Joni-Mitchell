{
 "cells": [
  {
   "cell_type": "code",
   "execution_count": 17,
   "metadata": {},
   "outputs": [],
   "source": [
    "import pandas as pd\n"
   ]
  },
  {
   "cell_type": "code",
   "execution_count": 4,
   "metadata": {},
   "outputs": [
    {
     "name": "stderr",
     "output_type": "stream",
     "text": [
      "C:\\Users\\aisvarya\\AppData\\Local\\Temp\\ipykernel_13404\\186268826.py:3: FutureWarning: The default value of regex will change from True to False in a future version. In addition, single character regular expressions will *not* be treated as literal strings when regex=True.\n",
      "  veggies_df['temp'] = veggies_df['temp'].str.replace(\"(\", \"\").str.replace(\")\", \"\").str.replace(\"Show °C/cm\", \"\").str.replace(\"Show °F/in\", \"\")\n"
     ]
    }
   ],
   "source": [
    "veggies_df = pd.read_csv('plantInfo-clean.csv')\n",
    "veggies_df[['sowInstructions', 'temp']] = veggies_df['sowInstructions'].str.split('temperatures between', expand=True)\n",
    "veggies_df['temp'] = veggies_df['temp'].str.replace(\"(\", \"\").str.replace(\")\", \"\").str.replace(\"Show °C/cm\", \"\").str.replace(\"Show °F/in\", \"\")"
   ]
  },
  {
   "cell_type": "code",
   "execution_count": 16,
   "metadata": {},
   "outputs": [],
   "source": [
    "veggies_df[['low', 'high']] = veggies_df['temp'].str.split(\"and\", expand = True)\n",
    "# veggies_df[['Name', 'low', 'high']].head(60)\n",
    "veggies_df['harvestInstructions'] = veggies_df['harvestInstructions'].str.rsplit(\".\").str[0]\n",
    "veggies_df.to_csv(\"gardening.csv\")"
   ]
  }
 ],
 "metadata": {
  "kernelspec": {
   "display_name": "Python 3.10.3 64-bit ('3.10.3')",
   "language": "python",
   "name": "python3"
  },
  "language_info": {
   "codemirror_mode": {
    "name": "ipython",
    "version": 3
   },
   "file_extension": ".py",
   "mimetype": "text/x-python",
   "name": "python",
   "nbconvert_exporter": "python",
   "pygments_lexer": "ipython3",
   "version": "3.10.3"
  },
  "vscode": {
   "interpreter": {
    "hash": "038ce1cd4d40dc26e6104aa9b60f647614224bba049805e8c57e058d4ee31051"
   }
  }
 },
 "nbformat": 4,
 "nbformat_minor": 2
}
